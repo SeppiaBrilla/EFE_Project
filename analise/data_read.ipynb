{
 "cells": [
  {
   "cell_type": "code",
   "execution_count": 7,
   "metadata": {},
   "outputs": [],
   "source": [
    "from load_jsons import load_jsons\n",
    "import pandas as pd\n",
    "import matplotlib.pyplot as plt\n",
    "from random import randint\n",
    "from json import load"
   ]
  },
  {
   "cell_type": "code",
   "execution_count": 3,
   "metadata": {},
   "outputs": [],
   "source": [
    "def rebuild(data:list[dict]) -> list[dict]:\n",
    "    out = []\n",
    "    for datapoint in data:\n",
    "        solver = datapoint[\"solver\"]\n",
    "        if solver == \"or-tools\":\n",
    "            if \"--threads=8\" in datapoint[\"solverOptions\"][0]:\n",
    "                continue\n",
    "            else:\n",
    "                solver = \"or-tools-1\"\n",
    "        out.append({\n",
    "            \"instance\": datapoint[\"essenceParams\"][0],\n",
    "            \"model\": datapoint[\"useExistingModels\"][0].split(\"/\")[-1],\n",
    "            \"solver\": solver,\n",
    "            \"total_time\": datapoint[\"totalTime\"] if datapoint[\"status\"] == \"OK\" else 36000,\n",
    "            \"status\": datapoint[\"status\"],\n",
    "            \"solver_options\": datapoint[\"solverOptions\"][0]\n",
    "        })\n",
    "    return out"
   ]
  },
  {
   "cell_type": "code",
   "execution_count": 15,
   "metadata": {},
   "outputs": [],
   "source": [
    "data = load_jsons(\"../../EssenceCatalog-runs/problems/csplib-prob001-CarSequencing/\", verbose=False)\n",
    "data = rebuild(data)"
   ]
  },
  {
   "cell_type": "code",
   "execution_count": 16,
   "metadata": {},
   "outputs": [],
   "source": [
    "instances_data = {}\n",
    "for datapoint in data:\n",
    "    inst = datapoint[\"instance\"]\n",
    "    model = datapoint[\"model\"]\n",
    "    solver = datapoint[\"solver\"]\n",
    "    comb = f\"{solver}_{model}\"\n",
    "    if not inst in instances_data:\n",
    "        instances_data[inst] = {}\n",
    "    instances_data[inst][comb] = datapoint[\"total_time\"]"
   ]
  },
  {
   "cell_type": "code",
   "execution_count": 18,
   "metadata": {},
   "outputs": [],
   "source": [
    "def load_file(file_name):\n",
    "    with open(file_name) as f:\n",
    "        return f.read()\n",
    "\n",
    "def get_dataset(data):\n",
    "    dataset = []\n",
    "    for key in data.keys():\n",
    "        datapoint = data[key]\n",
    "        combinations = list(datapoint.keys())\n",
    "        best = {'combination': combinations[0], 'time': datapoint[combinations[0]]}\n",
    "        times = []\n",
    "        for comb in combinations:\n",
    "            if \"bin\" in comb:\n",
    "                continue\n",
    "            times.append({\"time\": datapoint[comb], \"combination\": comb})\n",
    "            if best['time'] > datapoint[comb]:\n",
    "                best = {'combination': comb, 'time': datapoint[comb]}\n",
    "\n",
    "        instance = key.replace(\"/podmandir/EssenceCatalog/problems/csplib-prob001-CarSequencing/\", \"\")\n",
    "        dataset.append({\n",
    "            \"combination\": best[\"combination\"],\n",
    "            \"time\": best[\"time\"],\n",
    "            \"instance_value\":load_file(f\"../{instance}\"),\n",
    "            \"instance_name\": instance,\n",
    "            \"all_times\": times\n",
    "        })\n",
    "    return dataset\n",
    "\n",
    "dataset = get_dataset(instances_data)"
   ]
  },
  {
   "cell_type": "code",
   "execution_count": 20,
   "metadata": {},
   "outputs": [],
   "source": [
    "from json import dump\n",
    "f = open(\"../data/datasets/dataset_CarSequencing-2024-03-19.json\",\"w\")\n",
    "dump(dataset, f)\n",
    "f.close()"
   ]
  }
 ],
 "metadata": {
  "kernelspec": {
   "display_name": "Python 3",
   "language": "python",
   "name": "python3"
  },
  "language_info": {
   "codemirror_mode": {
    "name": "ipython",
    "version": 3
   },
   "file_extension": ".py",
   "mimetype": "text/x-python",
   "name": "python",
   "nbconvert_exporter": "python",
   "pygments_lexer": "ipython3",
   "version": "3.9.18"
  }
 },
 "nbformat": 4,
 "nbformat_minor": 2
}
